{
 "cells": [
  {
   "cell_type": "code",
   "execution_count": null,
   "metadata": {},
   "outputs": [],
   "source": [
    "try:\n",
    "    import firedrake\n",
    "except ImportError:\n",
    "    !wget \"https://fem-on-colab.github.io/releases/firedrake-install-real.sh\" -O \"/tmp/firedrake-install.sh\" && bash \"/tmp/firedrake-install.sh\"\n",
    "    import firedrake"
   ]
  },
  {
   "cell_type": "markdown",
   "metadata": {},
   "source": [
    "# Geometric multigrid solvers\n",
    "\n",
    "In addition to the full gamut of algebraic solvers offered by PETSc, Firedrake also provides access to multilevel solvers with geometric hierarchies. In this tutorial, we will study strategies to solve the Stokes equations, demonstrating how the multigrid functionality composes with fieldsplit preconditioning.\n",
    "\n",
    "\n",
    "## Creating a geometric hierarchy\n",
    "\n",
    "Geometric multigrid requires a geometric hierarchy of meshes on which the equations will be discretised.  For now, Firedrake supports hierarchies of *regularly refined* meshes, which we create by providing a *coarse mesh* and building a `MeshHierarchy`.  This hierarchy encapsulates the relationship between coarse and fine cells."
   ]
  },
  {
   "cell_type": "code",
   "execution_count": null,
   "metadata": {},
   "outputs": [],
   "source": [
    "import matplotlib.pyplot as plt\n",
    "from firedrake import *\n",
    "\n",
    "coarse_mesh = RectangleMesh(15, 10, 1.5, 1)"
   ]
  },
  {
   "cell_type": "markdown",
   "metadata": {},
   "source": [
    "Having made the coarse mesh, we create the hierarchy of meshes.  The second argument tells Firedrake how many levels of refinement to use.  Here we refine three times, so that in total we have four meshes."
   ]
  },
  {
   "cell_type": "code",
   "execution_count": null,
   "metadata": {},
   "outputs": [],
   "source": [
    "hierarchy = MeshHierarchy(coarse_mesh, 3)"
   ]
  },
  {
   "cell_type": "markdown",
   "metadata": {},
   "source": [
    "The `hierarchy` object behaves like a Python *iterable*, so we can ask for its length and index it to extract meshes on a given level in the normal way:"
   ]
  },
  {
   "cell_type": "code",
   "execution_count": null,
   "metadata": {},
   "outputs": [],
   "source": [
    "len(hierarchy)"
   ]
  },
  {
   "cell_type": "code",
   "execution_count": null,
   "metadata": {},
   "outputs": [],
   "source": [
    "finest_mesh = hierarchy[-1]"
   ]
  },
  {
   "cell_type": "markdown",
   "metadata": {},
   "source": [
    "### Grid transfer\n",
    "\n",
    "If you want to control all aspects of the multigrid cycle, Firedrake offers the necessary building blocks.  You just need to create the relevant objects on the levels of the mesh hierarchy, and then use provided functions to transfer information between levels.\n",
    "\n",
    "Firedrake provides the three functions, `prolong`, `restrict`, and `inject`.\n",
    "\n",
    "- `prolong` transfers primal quantities from coarse to fine meshes.\n",
    "- `restrict` transfers dual quantities (residuals) from fine to coarse meshes.  It is the dual of `prolong`.\n",
    "- `inject` transfers primal quantities from fine to coarse meshes.\n",
    "\n",
    "Most of the time, there is no need to access the interface at this level.  Instead, it suffices to define the variational problem on the finest level of a mesh hierarchy and then drive the solver using PETSc options.  This is the most flexible method, which we now demonstrate."
   ]
  },
  {
   "cell_type": "markdown",
   "metadata": {},
   "source": [
    "## Exercise\n",
    "\n",
    "Create mesh hierarchy of two levels on an interval mesh.  Create a piecewise linear function on the fine mesh and interpolate the function $f(x) = x$.  Now use the grid transfer functionality to move this function to the coarse mesh (using both `restrict` and `inject`).  Do you notice a difference between the two outcomes?\n",
    "\n",
    "- Hint 1: You will need to create a `FunctionSpace` on both the coarse and fine mesh.\n",
    "- Hint 2: use `x, = SpatialCoordinate(mesh)` to gain access to the `x` coordinate on a given mesh."
   ]
  },
  {
   "cell_type": "code",
   "execution_count": null,
   "metadata": {},
   "outputs": [],
   "source": []
  },
  {
   "cell_type": "markdown",
   "metadata": {},
   "source": [
    "## Problem setup\n",
    "\n",
    "We will solve the Stokes equations on a rectangular domain $\\Omega = [0, 1.5] \\times [0, 1]$.  With constant inflow and outflow through two \"pipes\" and no slip boundaries everywhere else.\n",
    "\n",
    "Our problem is to find $(u, p) \\in V\\times Q$ such that:\n",
    "\n",
    "$$\n",
    "\\begin{align}\n",
    "-\\nu \\nabla^2 u + \\nabla p &= 0 \\quad \\text{in $\\Omega$},\\\\\n",
    "\\nabla \\cdot u &= 0 \\quad \\text{in $\\Omega$},\\\\\n",
    "u &= u_0 \\quad \\text{on $\\Gamma_{\\text{inout}}$},\\\\\n",
    "u &= (0, 0) \\quad \\text{on $\\Gamma \\setminus \\Gamma_{\\text{inout}}$},\n",
    "\\end{align}\n",
    "$$\n",
    "where \n",
    "$$\n",
    "\\Gamma_\\text{inout}(x, y) = \\{(x, y)\\, |\\, y \\in [1/6, 1/3] \\cup [2/3, 5/6], x \\in \\{0, 1.5\\} \\}\n",
    "$$\n",
    "and\n",
    "$$\n",
    "u_0(x, y) = \\bigg\\{\\\n",
    "\\begin{split} \n",
    "1 - (12 (y - 1/4))^2 \\quad y &< 1/2, \\\\\n",
    "1 - (12 (y - 3/4))^2 \\quad y &> 1/2. \\\\\n",
    "\\end{split}\n",
    "$$\n",
    "\n",
    "We will use Taylor-Hood elements.  In the usual way, we multiply by test functions and after integrating by parts and incorporating boundary conditions, we arrive at the weak formulation, find $(u, p) \\in V \\times Q$ such that\n",
    "\n",
    "$$\n",
    "\\begin{align}\n",
    "\\int_\\Omega \\nu \\nabla u : \\nabla v - p\\nabla \\cdot v\\,\\text{d}x &= 0 \\quad \\forall v \\in V,\\\\\n",
    "\\int_\\Omega q \\nabla \\cdot u\\,\\text{d}x &= 0 \\quad \\forall q \\in Q, \\\\\n",
    "u &= (1, 0) \\quad \\text{on $\\Gamma_{\\text{inout}}$},\\\\\n",
    "u &= (0, 0) \\quad \\text{on $\\Gamma \\setminus \\Gamma_{\\text{inout}}$}.\n",
    "\\end{align}\n",
    "$$"
   ]
  },
  {
   "cell_type": "markdown",
   "metadata": {},
   "source": [
    "## Implementation\n",
    "\n",
    "To make things easier to play with, we'll wrap everything up in a function that we can call to produce a solver."
   ]
  },
  {
   "cell_type": "code",
   "execution_count": null,
   "metadata": {},
   "outputs": [],
   "source": [
    "def create_solver(parameters=None):\n",
    "    coarse_mesh = RectangleMesh(15, 10, 1.5, 1)\n",
    "    hierarchy = MeshHierarchy(coarse_mesh, 3)\n",
    "    \n",
    "    mesh = hierarchy[-1]\n",
    "    \n",
    "    V = VectorFunctionSpace(mesh, \"Lagrange\", 2)\n",
    "    Q = FunctionSpace(mesh, \"Lagrange\", 1)\n",
    "    W = V*Q\n",
    "    \n",
    "    u, p = TrialFunctions(W)\n",
    "    v, q = TestFunctions(W)\n",
    "    \n",
    "    nu = Constant(1)\n",
    "    x, y = SpatialCoordinate(mesh)\n",
    "    \n",
    "    t = conditional(y < 0.5, y - 1/4, y - 3/4)\n",
    "    gbar = conditional(Or(And(1/6 < y,\n",
    "                              y < 1/3),\n",
    "                          And(2/3 < y,\n",
    "                              y < 5/6)),\n",
    "                       1, \n",
    "                       0)\n",
    "\n",
    "    value = as_vector([gbar*(1 - (12*t)**2), 0])\n",
    "    bcs = [DirichletBC(W.sub(0), interpolate(value, V), (1, 2)),\n",
    "           DirichletBC(W.sub(0), zero(2), (3, 4))]\n",
    "    \n",
    "    a = (nu*inner(grad(u), grad(v)) - p*div(v) + q*div(u))*dx\n",
    "    L = inner(Constant((0, 0)), v)*dx\n",
    "    wh = Function(W)\n",
    "    problem = LinearVariationalProblem(a, L, wh, bcs=bcs)\n",
    "    solver = LinearVariationalSolver(problem, solver_parameters=parameters, appctx={\"nu\": nu})\n",
    "    return solver"
   ]
  },
  {
   "cell_type": "code",
   "execution_count": null,
   "metadata": {},
   "outputs": [],
   "source": [
    "solver = create_solver({\"ksp_type\": \"preonly\",\n",
    "                        \"pc_type\": \"lu\",\n",
    "                        \"pc_factor_shift_type\": \"inblocks\",\n",
    "                        \"ksp_monitor\": None,\n",
    "                        \"pmat_type\": \"aij\"})\n",
    "solver.solve()"
   ]
  },
  {
   "cell_type": "markdown",
   "metadata": {},
   "source": [
    "We can extract the solution variable from the solver object and plot the velocity and pressure fields.\n",
    "In previous notebooks, we've seen how to create multiple subplots, arrange them within a figure, share the axes, set the aspect ratio, and add titles.\n",
    "Here we're also taking the output of each plotting function -- a set of streamlines from streamplot and a set of colored triangles from tripcolor -- and using them to add a colorbar to each subplot.\n",
    "When we create the colorbar, we also need to tell matplotlib which axis to draw it on.\n",
    "Finally, we're adjusting the size and spacing of the colorbar to make the result look nicer.\n",
    "Steps like this often require some trial and error, but they're essential for making publication-quality figures."
   ]
  },
  {
   "cell_type": "code",
   "execution_count": null,
   "metadata": {},
   "outputs": [],
   "source": [
    "# NBVAL_IGNORE_OUTPUT\n",
    "w = solver._problem.u\n",
    "u, p = w.subfunctions\n",
    "fig, axes = plt.subplots(ncols=2, sharex=True, sharey=True)\n",
    "streamlines = streamplot(u, resolution=1/30, seed=4, axes=axes[0])\n",
    "axes[0].set_aspect(\"equal\")\n",
    "axes[0].set_title(\"Velocity\")\n",
    "fig.colorbar(streamlines, ax=axes[0], fraction=0.032, pad=0.02)\n",
    "\n",
    "triangles = tripcolor(p, axes=axes[1], cmap='coolwarm')\n",
    "axes[1].set_aspect(\"equal\")\n",
    "axes[1].set_title(\"Pressure\")\n",
    "fig.colorbar(triangles, ax=axes[1], fraction=0.032, pad=0.02);"
   ]
  },
  {
   "cell_type": "markdown",
   "metadata": {},
   "source": [
    "This direct method is not a scalable solution technique for large problems.  Similar to our earlier example involving the mixed Poisson problem, a Schur complement method can be more efficient.  We'll use geometric multigrid to invert the elliptic velocity block, and use a viscosity-weighted pressure mass matrix to precondition the Schur complement.  This gives good results as long as viscosity contrasts are not too strong. The Python preconditioner that we use to create the mass matrix is described in more detail in the composable solvers notebook."
   ]
  },
  {
   "cell_type": "code",
   "execution_count": null,
   "metadata": {},
   "outputs": [],
   "source": [
    "class MassMatrix(AuxiliaryOperatorPC):\n",
    "    def form(self, pc, test, trial):\n",
    "        # Grab the viscosity\n",
    "        nu = self.get_appctx(pc)[\"nu\"]\n",
    "        return (nu*test*trial*dx, None)"
   ]
  },
  {
   "cell_type": "code",
   "execution_count": null,
   "metadata": {},
   "outputs": [],
   "source": [
    "parameters = {\n",
    "    \"ksp_type\": \"gmres\",\n",
    "    \"ksp_monitor\": None,\n",
    "    \"pc_type\": \"fieldsplit\",\n",
    "    \"pc_use_amat\": True,\n",
    "    \"pc_fieldsplit_type\": \"schur\",\n",
    "    \"pc_fieldsplit_schur_fact_type\": \"lower\",\n",
    "    \"fieldsplit_0_ksp_type\": \"preonly\",\n",
    "    \"fieldsplit_0_pc_type\": \"mg\",\n",
    "    \"fieldsplit_1_ksp_type\": \"preonly\",\n",
    "    \"fieldsplit_1_pc_type\": \"python\",\n",
    "    \"fieldsplit_1_pc_python_type\": \"__main__.MassMatrix\",\n",
    "    \"fieldsplit_1_aux_pc_type\": \"icc\",\n",
    "}\n",
    "\n",
    "solver = create_solver(parameters)\n",
    "solver.solve()"
   ]
  },
  {
   "cell_type": "markdown",
   "metadata": {},
   "source": [
    "Another option is to use a distributive smoother.  Instead of using a Schur complement on the outside and multigrid for the velocity block, we can instead use multigrid on the outside and Schur complements as a \"smoother\" on each level.  This requires more parameters, but no other change in our problem setup.\n",
    "\n",
    "Notice how we provide the `MassMatrix` Python preconditioner on each level for the Schur complement. An appropriate operator will be created on each level as necessary."
   ]
  },
  {
   "cell_type": "code",
   "execution_count": null,
   "metadata": {},
   "outputs": [],
   "source": [
    "parameters = {\n",
    "      \"ksp_type\": \"fgmres\",\n",
    "      \"ksp_monitor\": None,\n",
    "      \"mat_type\": \"nest\",\n",
    "      \"pc_type\": \"mg\",\n",
    "      \"mg_coarse_ksp_type\": \"preonly\",\n",
    "      \"mg_coarse_pc_type\": \"fieldsplit\",\n",
    "      \"mg_coarse_pc_fieldsplit_type\": \"schur\",\n",
    "      \"mg_coarse_pc_fieldsplit_schur_fact_type\": \"full\",\n",
    "      \"mg_coarse_fieldsplit_0_ksp_type\": \"preonly\",\n",
    "      \"mg_coarse_fieldsplit_0_pc_type\": \"lu\",\n",
    "      \"mg_coarse_fieldsplit_1_ksp_type\": \"richardson\",\n",
    "      \"mg_coarse_fieldsplit_1_ksp_richardson_self_scale\": True,\n",
    "      \"mg_coarse_fieldsplit_1_ksp_max_it\": 5,\n",
    "      \"mg_coarse_fieldsplit_1_pc_type\": \"none\",\n",
    "      \"mg_levels_ksp_type\": \"richardson\",\n",
    "      \"mg_levels_ksp_richardson_self_scale\": True,\n",
    "      \"mg_levels_ksp_max_it\": 1,\n",
    "      \"mg_levels_pc_type\": \"fieldsplit\",\n",
    "      \"mg_levels_pc_fieldsplit_type\": \"schur\",\n",
    "      \"mg_levels_pc_fieldsplit_schur_fact_type\": \"upper\",\n",
    "      \"mg_levels_fieldsplit_0_ksp_type\": \"preonly\",\n",
    "      \"mg_levels_fieldsplit_0_pc_type\": \"bjacobi\",\n",
    "      \"mg_levels_fieldsplit_0_sub_pc_type\": \"ilu\",\n",
    "      \"mg_levels_fieldsplit_1_ksp_type\": \"preonly\",\n",
    "      \"mg_levels_fieldsplit_1_pc_type\": \"python\",\n",
    "      \"mg_levels_fieldsplit_1_pc_python_type\": \"__main__.MassMatrix\",\n",
    "      \"mg_levels_fieldsplit_1_aux_pc_type\": \"icc\",\n",
    "}\n",
    "\n",
    "solver = create_solver(parameters)\n",
    "solver.solve()"
   ]
  },
  {
   "cell_type": "markdown",
   "metadata": {},
   "source": [
    "# Exercise\n",
    "\n",
    "In most real-world scenarios, the viscosity $\\nu$ will not be constant, but rather variable.  See what happens to the performance of the solver when you replace the constant viscosity $\\nu$ with a spatially varying one.  In particular, try:\n",
    "\n",
    "$$\n",
    "\\nu(x, y) = \\bigg\\{\\begin{split}\n",
    "&100 \\quad&\\text{if $(x - 0.5)^2 + (y - 0.5)^2 < 0.25$},\\\\\n",
    "&1 \\quad&\\text{otherwise.}\n",
    "\\end{split}\n",
    "$$\n",
    "\n",
    "- Hint 1: Use `conditional` to produce an expression that varies the viscosity spatially.\n",
    "- Hint 2: You can determine the iteration count after the solver has finished using `solver.snes.ksp.getIterationNumber()`.\n",
    "\n",
    "Here are some questions you might consider:\n",
    "\n",
    "- What happens to the iteration count when you increase the number levels in the hierarchy?\n",
    "\n",
    "- What if you change the viscosity contrast to 1000, or 10000?\n",
    "\n",
    "- Compare with algebraic multigrid to solve the velocity block (use `\"fieldsplit_0_pc_type\": \"hypre\"` instead of `\"fieldsplit_0_pc_type\": \"mg\"`).\n",
    "\n",
    "For simplicity, the relevant setup is copied below to start with:"
   ]
  },
  {
   "cell_type": "code",
   "execution_count": null,
   "metadata": {},
   "outputs": [],
   "source": [
    "def create_solver(parameters=None):\n",
    "    coarse_mesh = RectangleMesh(15, 10, 1.5, 1)\n",
    "    hierarchy = MeshHierarchy(coarse_mesh, 3)\n",
    "    \n",
    "    mesh = hierarchy[-1]\n",
    "    \n",
    "    V = VectorFunctionSpace(mesh, \"Lagrange\", 2)\n",
    "    Q = FunctionSpace(mesh, \"Lagrange\", 1)\n",
    "    W = V*Q\n",
    "    \n",
    "    u, p = TrialFunctions(W)\n",
    "    v, q = TestFunctions(W)\n",
    "    \n",
    "    # Change me to spatially varying.\n",
    "    nu = Constant(1)\n",
    "    x, y = SpatialCoordinate(mesh)\n",
    "    \n",
    "    t = conditional(y < 0.5, y - 1/4, y - 3/4)\n",
    "    gbar = conditional(Or(And(1/6 < y,\n",
    "                              y < 1/3),\n",
    "                          And(2/3 < y,\n",
    "                              y < 5/6)),\n",
    "                       1, \n",
    "                       0)\n",
    "\n",
    "    value = as_vector([gbar*(1 - (12*t)**2), 0])\n",
    "    bcs = [DirichletBC(W.sub(0), interpolate(value, V), (1, 2)),\n",
    "           DirichletBC(W.sub(0), zero(2), (3, 4))]\n",
    "    \n",
    "    a = (nu*inner(grad(u), grad(v)) - p*div(v) + q*div(u))*dx\n",
    "    L = inner(Constant((0, 0)), v)*dx\n",
    "    \n",
    "    wh = Function(W)\n",
    "    problem = LinearVariationalProblem(a, L, wh, bcs=bcs)\n",
    "    solver = LinearVariationalSolver(problem, solver_parameters=parameters, appctx={\"nu\": nu})\n",
    "    return solver"
   ]
  },
  {
   "cell_type": "code",
   "execution_count": null,
   "metadata": {},
   "outputs": [],
   "source": [
    "parameters = {\n",
    "    \"ksp_type\": \"gmres\",\n",
    "    \"ksp_monitor\": None,\n",
    "    \"pc_type\": \"fieldsplit\",\n",
    "    \"pc_use_amat\": True,\n",
    "    \"pc_fieldsplit_type\": \"schur\",\n",
    "    \"pc_fieldsplit_schur_fact_type\": \"lower\",\n",
    "    \"fieldsplit_0_ksp_type\": \"preonly\",\n",
    "    \"fieldsplit_0_pc_type\": \"mg\",\n",
    "    \"fieldsplit_1_ksp_type\": \"preonly\",\n",
    "    \"fieldsplit_1_pc_type\": \"python\",\n",
    "    \"fieldsplit_1_pc_python_type\": \"__main__.MassMatrix\",\n",
    "    \"fieldsplit_1_aux_pc_type\": \"icc\",\n",
    "}\n",
    "\n",
    "solver = create_solver(parameters)\n",
    "solver.solve()"
   ]
  },
  {
   "cell_type": "code",
   "execution_count": null,
   "metadata": {},
   "outputs": [],
   "source": []
  }
 ],
 "metadata": {
  "kernelspec": {
   "display_name": "Python 3",
   "language": "python",
   "name": "python3"
  },
  "language_info": {
   "codemirror_mode": {
    "name": "ipython",
    "version": 3
   },
   "file_extension": ".py",
   "mimetype": "text/x-python",
   "name": "python",
   "nbconvert_exporter": "python",
   "pygments_lexer": "ipython3",
   "version": "3.7.4"
  }
 },
 "nbformat": 4,
 "nbformat_minor": 2
}
