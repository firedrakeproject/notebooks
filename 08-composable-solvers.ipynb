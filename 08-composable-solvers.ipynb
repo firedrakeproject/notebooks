{
 "cells": [
  {
   "cell_type": "code",
   "execution_count": null,
   "metadata": {},
   "outputs": [],
   "source": [
    "try:\n",
    "    import firedrake\n",
    "except ImportError:\n",
    "    !wget \"https://fem-on-colab.github.io/releases/firedrake-install-real.sh\" -O \"/tmp/firedrake-install.sh\" && bash \"/tmp/firedrake-install.sh\"\n",
    "    import firedrake"
   ]
  },
  {
   "cell_type": "markdown",
   "metadata": {},
   "source": [
    "# Programming your solver\n",
    "\n",
    "In this notebook, we will look at some of the more advanced capabilities Firedrake has for configuring and developing preconditioners. In particular, we will show support for geometric multigrid, as well as user-defined preconditioners.\n",
    "\n",
    "As our prototypical example, we will consider the Stokes equations. Find $(u, p) \\in V \\times Q \\subset (H^1)^d \\times L^2$ such that\n",
    "\n",
    "$$\n",
    "\\begin{align}\n",
    "  \\nu\\int_\\Omega \\nabla u : \\nabla v\\,\\mathrm{d}x - \\int_\\Omega p\n",
    "  \\nabla \\cdot v\\,\\mathrm{d}x\n",
    "  &= \\int_\\Omega f \\cdot v\\,\\mathrm{d}x, \\\\\n",
    "  -\\int_\\Omega \\nabla \\cdot u q \\,\\mathrm{d}x&= 0.\n",
    "\\end{align}\n",
    "$$\n",
    "for all $(v, q) \\in V \\times Q$. Where $\\nu$ is the viscosity.\n",
    "\n",
    "We will use the inf-sup stable Taylor-Hood element pair of piecewise quadratic velocities and piecewise linear pressures."
   ]
  },
  {
   "cell_type": "code",
   "execution_count": null,
   "metadata": {},
   "outputs": [],
   "source": [
    "from firedrake import *\n",
    "mesh = UnitSquareMesh(8, 8)"
   ]
  },
  {
   "cell_type": "markdown",
   "metadata": {},
   "source": [
    "We now build a hierarchy of regularly refined meshes with this as the coarsest mesh, and grab the finest one to define the problem."
   ]
  },
  {
   "cell_type": "code",
   "execution_count": null,
   "metadata": {},
   "outputs": [],
   "source": [
    "meshes = MeshHierarchy(mesh, refinement_levels=3)\n",
    "# Grab the finest mesh\n",
    "mesh = meshes[-1]\n",
    "\n",
    "V = VectorFunctionSpace(mesh, \"Lagrange\", 2)\n",
    "Q = FunctionSpace(mesh, \"Lagrange\", 1)\n",
    "W = V*Q"
   ]
  },
  {
   "cell_type": "markdown",
   "metadata": {},
   "source": [
    "We set up the problem in residual form (using `TestFunction`s but no `TrialFunction`s)."
   ]
  },
  {
   "cell_type": "code",
   "execution_count": null,
   "metadata": {},
   "outputs": [],
   "source": [
    "v, q = TestFunctions(W)\n",
    "w = Function(W)\n",
    "u, p = split(w)\n",
    "\n",
    "nu = Constant(0.0001)\n",
    "F = nu*inner(grad(u), grad(v))*dx - p*div(v)*dx - div(u)*q*dx"
   ]
  },
  {
   "cell_type": "markdown",
   "metadata": {},
   "source": [
    "We now need to augment the problem with a forcing term and boundary conditions.  We will solve a regularised lid-driven cavity problem, and thus choose $f = 0$ and the boundary conditions:\n",
    "$$\n",
    "\\begin{align}\n",
    "u &= \\begin{pmatrix}\\frac{x^2 (2 - x)^2 y^2}{4} \\\\ 0 \\end{pmatrix} & \\text{ on $\\Gamma_1 = \\{y = 1\\}$},\\\\\n",
    "u &= 0 & \\text{ otherwise.}\\\\\n",
    "\\end{align}\n",
    "$$"
   ]
  },
  {
   "cell_type": "code",
   "execution_count": null,
   "metadata": {},
   "outputs": [],
   "source": [
    "x, y = SpatialCoordinate(mesh)\n",
    "bc_value = as_vector([0.25 * x**2 * (2-x)**2 *y**2, 0])\n",
    "\n",
    "bcs = [DirichletBC(W.sub(0), bc_value, 4),\n",
    "       DirichletBC(W.sub(0), zero(mesh.geometric_dimension()), (1, 2, 3))]"
   ]
  },
  {
   "cell_type": "markdown",
   "metadata": {},
   "source": [
    "This problem has a null space of constant pressures, so we'll need to inform the solver about that too."
   ]
  },
  {
   "cell_type": "code",
   "execution_count": null,
   "metadata": {},
   "outputs": [],
   "source": [
    "nullspace = MixedVectorSpaceBasis(W, [W.sub(0), VectorSpaceBasis(constant=True)])"
   ]
  },
  {
   "cell_type": "markdown",
   "metadata": {},
   "source": [
    "Since we're going to look at a bunch of different solver options, let's have a function that builds a solver with the provided options."
   ]
  },
  {
   "cell_type": "code",
   "execution_count": null,
   "metadata": {},
   "outputs": [],
   "source": [
    "def create_solver(solver_parameters, *, pmat=None, appctx=None):\n",
    "    p = {}\n",
    "    if solver_parameters is not None:\n",
    "        p.update(solver_parameters)\n",
    "    # Default to linear SNES\n",
    "    p.setdefault(\"snes_type\", \"ksponly\")\n",
    "    p.setdefault(\"ksp_rtol\", 1e-7)\n",
    "    problem = NonlinearVariationalProblem(F, w, bcs=bcs, Jp=pmat)\n",
    "    solver = NonlinearVariationalSolver(problem, nullspace=nullspace, options_prefix=\"\", \n",
    "                                        solver_parameters=p, appctx=appctx)\n",
    "    return solver"
   ]
  },
  {
   "cell_type": "markdown",
   "metadata": {},
   "source": [
    "First, let's go ahead and solve the problem using a direct solver. The solver is configured with a dictionary of PETSc options. Here we select MUMPS to perform the sparse LU factorisation. (Note that these are actually the default solver parameters that Firedrake assumes.)"
   ]
  },
  {
   "cell_type": "code",
   "execution_count": null,
   "metadata": {},
   "outputs": [],
   "source": [
    "solver_parameters = {\n",
    "    \"mat_type\": \"aij\",\n",
    "    \"ksp_type\": \"preonly\",\n",
    "    # Use MUMPS since it handles the null space\n",
    "    \"pc_type\": \"lu\",\n",
    "    \"pc_factor_mat_solver_type\": \"mumps\"\n",
    "}"
   ]
  },
  {
   "cell_type": "code",
   "execution_count": null,
   "metadata": {},
   "outputs": [],
   "source": [
    "# Programmatically inspect convergence of solver\n",
    "def convergence(solver):\n",
    "    from firedrake.solving_utils import KSPReasons, SNESReasons\n",
    "    snes = solver.snes\n",
    "    print(\"\"\"\n",
    "SNES iterations: {snes}; SNES converged reason: {snesreason}\n",
    "   KSP iterations: {ksp}; KSP converged reason: {kspreason}\"\"\".format(snes=snes.getIterationNumber(),\n",
    "                                                                      snesreason=SNESReasons[snes.getConvergedReason()],\n",
    "                                                                      ksp=snes.ksp.getIterationNumber(),\n",
    "                                                                      kspreason=KSPReasons[snes.ksp.getConvergedReason()]))"
   ]
  },
  {
   "cell_type": "markdown",
   "metadata": {},
   "source": [
    "We're ready to solve."
   ]
  },
  {
   "cell_type": "code",
   "execution_count": null,
   "metadata": {},
   "outputs": [],
   "source": [
    "w.assign(0)\n",
    "solver = create_solver(solver_parameters)\n",
    "solver.solve()\n",
    "convergence(solver)"
   ]
  },
  {
   "cell_type": "markdown",
   "metadata": {},
   "source": [
    "We can now have a look at the solution, using some simple builtin plotting that utilises matplotlib."
   ]
  },
  {
   "cell_type": "code",
   "execution_count": null,
   "metadata": {},
   "outputs": [],
   "source": [
    "import matplotlib.pyplot as plt\n",
    "u_h, p_h = w.subfunctions\n",
    "fig, axes = plt.subplots()\n",
    "streamlines = streamplot(u_h, resolution=1/30, seed=0, axes=axes)\n",
    "fig.colorbar(streamlines);"
   ]
  },
  {
   "cell_type": "markdown",
   "metadata": {},
   "source": [
    "## Configuring a better preconditioner\n",
    "\n",
    "For this small problem, we can (and probably should) use a direct factorisation method. But what if the problem is too big? Then we need an iterative method, and an appropriate preconditioner.\n",
    "\n",
    "Let's try everyone's favourite, ILU(0)."
   ]
  },
  {
   "cell_type": "code",
   "execution_count": null,
   "metadata": {},
   "outputs": [],
   "source": [
    "solver_parameters = {\n",
    "    \"mat_type\": \"aij\",\n",
    "    \"ksp_type\": \"gmres\",\n",
    "    \"ksp_gmres_modifiedgramschmidt\": None,\n",
    "    \"ksp_max_it\": 2000,\n",
    "    \"ksp_converged_reason\": None,\n",
    "    \"pc_type\": \"ilu\"\n",
    "}"
   ]
  },
  {
   "cell_type": "code",
   "execution_count": null,
   "metadata": {},
   "outputs": [],
   "source": [
    "w.assign(0)\n",
    "solver = create_solver(solver_parameters)\n",
    "solver.solve()\n",
    "convergence(solver)"
   ]
  },
  {
   "cell_type": "markdown",
   "metadata": {},
   "source": [
    "This is, unsurprisingly, bad. Fortunately, better options are available."
   ]
  },
  {
   "cell_type": "markdown",
   "metadata": {},
   "source": [
    "### Block preconditioning\n",
    "\n",
    "Firedrake hooks up all the necessary machinery to access PETSc's [`PCFIELDSPLIT`](https://www.mcs.anl.gov/petsc/petsc-current/manualpages/PC/PCFIELDSPLIT.html#PCFIELDSPLIT) preconditioner. This provides mechanisms for building preconditioners based on block factorisations. The Stokes problem \n",
    "$$\n",
    "\\begin{align}\n",
    "  \\nu\\int_\\Omega \\color{#800020}{\\nabla u : \\nabla v}\\,\\mathrm{d}x - \\int_\\Omega\n",
    "  \\color{#2A52BE}{p \\nabla \\cdot v}\\,\\mathrm{d}x\n",
    "  &= \\int_\\Omega f \\cdot v\\,\\mathrm{d}x, \\\\\n",
    "  -\\int_\\Omega \\color{#2A52BE}{\\nabla \\cdot u q} \\,\\mathrm{d}x&= 0\n",
    "\\end{align}\n",
    "$$\n",
    "is a block system with matrix\n",
    "$$\n",
    "\\mathcal{A} = \\begin{bmatrix} \\color{#800020}{A} & \\color{#2A52BE}{B^T} \\\\ \\color{#2A52BE}{B} & 0 \\end{bmatrix},\n",
    "$$\n",
    "\n",
    "admitting a factorisation\n",
    "\n",
    "$$\n",
    "\\begin{bmatrix} I & 0 \\\\ \\color{#2A52BE}{B} \\color{#800020}{A}^{-1} & I\\end{bmatrix}\n",
    "\\begin{bmatrix}\\color{#800020}{A} & 0 \\\\ 0 & S\\end{bmatrix}\n",
    "\\begin{bmatrix} I & \\color{#800020}{A}^{-1} \\color{#2A52BE}{B^T} \\\\ 0 & I\\end{bmatrix},\n",
    "$$\n",
    "\n",
    "with $S = -\\color{#2A52BE}{B} \\color{#800020}{A}^{-1} \\color{#2A52BE}{B^T}$ the *Schur complement*.  This has an inverse\n",
    "\n",
    "$$\n",
    "\\begin{bmatrix} I & -\\color{#800020}{A}^{-1}\\color{#2A52BE}{B^T} \\\\ 0 & I \\end{bmatrix}\n",
    "\\begin{bmatrix} \\color{#800020}{A}^{-1} & 0 \\\\ 0 & S^{-1}\\end{bmatrix}\n",
    "\\begin{bmatrix} I & 0 \\\\ -\\color{#2A52BE}{B}\\color{#800020}{A}^{-1} & I\\end{bmatrix}.\n",
    "$$\n",
    "\n",
    "$S$ is never formed, so it's inverse is approximated using an iterative method."
   ]
  },
  {
   "cell_type": "code",
   "execution_count": null,
   "metadata": {},
   "outputs": [],
   "source": [
    "exact_inverse_parameters = {\n",
    "    \"ksp_type\": \"fgmres\",\n",
    "    \"pc_type\": \"fieldsplit\",\n",
    "    \"pc_fieldsplit_type\": \"schur\",\n",
    "    \"fieldsplit_0\": {\n",
    "        \"ksp_type\": \"preonly\",\n",
    "        \"pc_type\": \"lu\",\n",
    "    },\n",
    "    \"fieldsplit_1\": {\n",
    "        \"ksp_type\": \"cg\",\n",
    "        \"ksp_rtol\": 1e-8,\n",
    "        \"pc_type\": \"none\",\n",
    "    }\n",
    "}"
   ]
  },
  {
   "cell_type": "code",
   "execution_count": null,
   "metadata": {},
   "outputs": [],
   "source": [
    "w.assign(0)\n",
    "solver = create_solver(exact_inverse_parameters)\n",
    "solver.solve()\n",
    "convergence(solver)"
   ]
  },
  {
   "cell_type": "markdown",
   "metadata": {},
   "source": [
    "This looks good, but we had to use an unpreconditioned Krylov method to invert $S$. To do better we need to provide either an approximation to $S$ or $S^{-1}$.\n",
    "\n",
    "For the Stokes equations, [Silvester and Wathen (1993)](https://epubs.siam.org/doi/10.1137/0730031) show that $S \\approx -\\nu^{-1} Q$ is a good approximation, where $Q$ is the pressure mass matrix.\n",
    "\n",
    "Problem: $Q$ is not available as one of the blocks of $\\mathcal{A}$."
   ]
  },
  {
   "cell_type": "markdown",
   "metadata": {},
   "source": [
    "PETSc's approach is to allow us to supply a _separate_ matrix to the solver which will be used to construct the preconditioner. So, we just need to additionally supply\n",
    "\n",
    "$$\n",
    "\\mathcal{P} = \\mathcal{A} + \\begin{bmatrix} 0 & 0 \\\\ 0 & -\\nu^{-1}Q\\end{bmatrix} = \\begin{bmatrix} \\color{#800020}{A} & \\color{#2A52BE}{B^T} \\\\ \\color{#2A52BE}{B} & -\\nu^{-1} Q \\end{bmatrix},\n",
    "$$\n",
    "where $Q = \\int_\\Omega p q \\,\\mathrm{d}x$.\n",
    "\n",
    "We will construct P by symbolically computing the derivative of the residual to get $\\mathcal{A}$ and then subtracting $\\nu^{-1} Q$."
   ]
  },
  {
   "cell_type": "code",
   "execution_count": null,
   "metadata": {},
   "outputs": [],
   "source": [
    "w_t = TrialFunction(W)\n",
    "_, p_t = split(w_t)\n",
    "\n",
    "pmat = lhs(derivative(F, w, w_t)) - 1/nu * p_t * q*dx"
   ]
  },
  {
   "cell_type": "markdown",
   "metadata": {},
   "source": [
    "We can now pass this pmat form to `create_solver` and can configure an appropriate preconditioner."
   ]
  },
  {
   "cell_type": "code",
   "execution_count": null,
   "metadata": {},
   "outputs": [],
   "source": [
    "pmat_parameters = {\n",
    "    \"mat_type\": \"nest\", # We only need the blocks\n",
    "    \"snes_type\": \"ksponly\",\n",
    "    \"ksp_view\": None,\n",
    "    \"ksp_monitor_true_residual\": None,\n",
    "    \"ksp_max_it\": 100,\n",
    "    \"pc_type\": \"fieldsplit\",\n",
    "    \"pc_fieldsplit_type\": \"schur\",\n",
    "    \"fieldsplit_0\": {\n",
    "        \"ksp_type\": \"preonly\",\n",
    "        \"pc_type\": \"lu\",\n",
    "    },\n",
    "    \"fieldsplit_1\": {\n",
    "        \"ksp_type\": \"preonly\",\n",
    "        \"pc_type\": \"lu\",\n",
    "    }\n",
    "}"
   ]
  },
  {
   "cell_type": "code",
   "execution_count": null,
   "metadata": {},
   "outputs": [],
   "source": [
    "w.assign(0)\n",
    "solver = create_solver(pmat_parameters, pmat=pmat)\n",
    "solver.solve()\n",
    "convergence(solver)"
   ]
  },
  {
   "cell_type": "markdown",
   "metadata": {},
   "source": [
    "### Providing auxiliary operators\n",
    "\n",
    "An inconvenience here is that we must build $\\mathcal{P}$, even though we only need $-\\nu^{-1} Q$ in additional to $\\mathcal{A}$ in the preconditioner.\n",
    "\n",
    "Firedrake offers a facilities to build Python preconditioning objects, utilising petsc4py.\n",
    "\n",
    "In this case, we can subclass the \n",
    "[`AuxiliaryOperatorPC`](https://www.firedrakeproject.org/firedrake.preconditioners.html#firedrake.preconditioners.assembled.AuxiliaryOperatorPC) to provide the mass matrix."
   ]
  },
  {
   "cell_type": "code",
   "execution_count": null,
   "metadata": {},
   "outputs": [],
   "source": [
    "class MassMatrix(AuxiliaryOperatorPC):\n",
    "    _prefix = \"mass_\"\n",
    "    def form(self, pc, test, trial):\n",
    "        # Grab the definition of nu from the user application context (a dict)\n",
    "        nu = self.get_appctx(pc)[\"nu\"]\n",
    "        return (-1/nu * test*trial*dx, None)"
   ]
  },
  {
   "cell_type": "markdown",
   "metadata": {},
   "source": [
    "Now we just need to select parameters such that this Python preconditioner is used."
   ]
  },
  {
   "cell_type": "code",
   "execution_count": null,
   "metadata": {},
   "outputs": [],
   "source": [
    "mass_parameters = {\n",
    "    \"mat_type\": \"nest\", # We only need the blocks\n",
    "    \"ksp_view\": None,\n",
    "    \"pc_type\": \"fieldsplit\",\n",
    "    \"pc_fieldsplit_type\": \"schur\",\n",
    "    \"fieldsplit_0\": {\n",
    "        \"ksp_type\": \"preonly\",\n",
    "        \"pc_type\": \"lu\",\n",
    "    },\n",
    "    \"fieldsplit_1\": {\n",
    "        \"ksp_type\": \"preonly\",\n",
    "        \"pc_type\": \"python\",\n",
    "        \"pc_python_type\": \"__main__.MassMatrix\",\n",
    "        \"mass_pc_type\": \"lu\",\n",
    "    }\n",
    "}"
   ]
  },
  {
   "cell_type": "code",
   "execution_count": null,
   "metadata": {},
   "outputs": [],
   "source": [
    "appctx = {\"nu\": nu} # arbitrary user data that is available inside the user PC object\n",
    "w.assign(0)\n",
    "solver = create_solver(mass_parameters, appctx=appctx)\n",
    "solver.solve()\n",
    "convergence(solver)"
   ]
  },
  {
   "cell_type": "markdown",
   "metadata": {},
   "source": [
    "This performs identically to the previous approach, except that the preconditioning matrix is only built for the pressure space, and constructed \"on demand\"."
   ]
  },
  {
   "cell_type": "markdown",
   "metadata": {},
   "source": [
    "## Multigrid preconditioners and smoothers\n",
    "\n",
    "So far, we've only used direct solvers for the blocks. We can also use iterative methods. Here we'll use geometric multigrid to solve\n",
    "\n",
    "In the same way that Firedrake hooks up solvers such that [`PCFIELDSPLIT`](https://www.mcs.anl.gov/petsc/petsc-current/manualpages/PC/PCFIELDSPLIT.html#PCFIELDSPLIT) is enabled, if a problem was defined on a mesh from a `MeshHierarchy`, [`PCMG`](https://www.mcs.anl.gov/petsc/petsc-current/manualpages/PC/PCMG.html) and [`SNESFAS`](https://www.mcs.anl.gov/petsc/petsc-current/manualpages/SNES/SNESFASType.html) are also available."
   ]
  },
  {
   "cell_type": "code",
   "execution_count": null,
   "metadata": {},
   "outputs": [],
   "source": [
    "fieldsplit_mg_parameters = {\n",
    "    \"mat_type\": \"nest\",\n",
    "    \"ksp_view\": None,\n",
    "    \"pc_type\": \"fieldsplit\",\n",
    "    \"pc_fieldsplit_type\": \"schur\",\n",
    "    \"fieldsplit_0\": {\n",
    "        \"ksp_type\": \"preonly\",\n",
    "        \"pc_type\": \"mg\",\n",
    "        \"mg_levels\": {\n",
    "            \"ksp_type\": \"chebyshev\",\n",
    "            \"ksp_max_it\": 2,\n",
    "        }\n",
    "    },\n",
    "    \"fieldsplit_1\": {\n",
    "        \"ksp_type\": \"chebyshev\",\n",
    "        \"ksp_max_it\": 2,\n",
    "        \"pc_type\": \"python\",\n",
    "        \"pc_python_type\": \"__main__.MassMatrix\",\n",
    "        \"mass_pc_type\": \"sor\",\n",
    "    }\n",
    "}"
   ]
  },
  {
   "cell_type": "markdown",
   "metadata": {},
   "source": [
    "Now, when the solver runs, PETSc will call back in to Firedrake for restriction and prolongation, as well as rediscretising $A$ on the coarser levels."
   ]
  },
  {
   "cell_type": "code",
   "execution_count": null,
   "metadata": {},
   "outputs": [],
   "source": [
    "appctx = {\"nu\": nu} # arbitrary user data that is available inside the user PC object\n",
    "w.assign(0)\n",
    "solver = create_solver(fieldsplit_mg_parameters, appctx=appctx)\n",
    "solver.solve()\n",
    "convergence(solver)"
   ]
  },
  {
   "cell_type": "markdown",
   "metadata": {},
   "source": [
    "We can also do monolithic, or \"all at once\" multigrid. Here we're using Vanka smoothing. This is supported by a new preconditioner in PETSc `PCPATCH`."
   ]
  },
  {
   "cell_type": "code",
   "execution_count": null,
   "metadata": {},
   "outputs": [],
   "source": [
    "vanka_parameters = {\n",
    "    \"mat_type\": \"matfree\", # We only need the action\n",
    "    \"ksp_type\": \"fgmres\",\n",
    "    \"ksp_max_it\": 25,\n",
    "    \"pc_type\": \"mg\",\n",
    "    \"mg_levels\": {\n",
    "        \"ksp_type\": \"chebyshev\",\n",
    "        \"ksp_convergence_test\": \"skip\",\n",
    "        \"ksp_max_it\": 2,\n",
    "        \"pc_type\": \"python\",\n",
    "        \"pc_python_type\": \"firedrake.PatchPC\",\n",
    "        \"patch\": {\n",
    "            \"pc_patch_save_operators\": 1,\n",
    "            \"pc_patch_partition_of_unity\": False,\n",
    "            \"pc_patch_construct_dim\": 0,\n",
    "            # Topological decomposition\n",
    "            \"pc_patch_construct_type\": \"vanka\",\n",
    "            # Pressure space is constraint space\n",
    "            \"pc_patch_exclude_subspaces\": 1,\n",
    "            # Configure the solver on each patch\n",
    "            \"pc_patch_sub\": {\n",
    "                \"mat_type\": \"dense\",\n",
    "                \"ksp_type\": \"preonly\",\n",
    "                \"pc_type\": \"lu\",\n",
    "                \"pc_factor_shift_type\": \"nonzero\",\n",
    "            }\n",
    "        }\n",
    "    },\n",
    "    \"mg_coarse\": {\n",
    "        \"ksp_type\": \"preonly\",\n",
    "        \"pc_type\": \"python\",\n",
    "        \"pc_python_type\": \"firedrake.AssembledPC\",\n",
    "        \"assembled\": {\n",
    "            \"pc_type\": \"lu\",\n",
    "            \"pc_factor_mat_solver_type\": \"mumps\",\n",
    "        }\n",
    "    }\n",
    "}"
   ]
  },
  {
   "cell_type": "code",
   "execution_count": null,
   "metadata": {},
   "outputs": [],
   "source": [
    "w.assign(0)\n",
    "solver = create_solver(vanka_parameters)\n",
    "solver.solve()\n",
    "convergence(solver)"
   ]
  },
  {
   "cell_type": "code",
   "execution_count": null,
   "metadata": {},
   "outputs": [],
   "source": []
  }
 ],
 "metadata": {
  "kernelspec": {
   "display_name": "Python 3",
   "language": "python",
   "name": "python3"
  },
  "language_info": {
   "codemirror_mode": {
    "name": "ipython",
    "version": 3
   },
   "file_extension": ".py",
   "mimetype": "text/x-python",
   "name": "python",
   "nbconvert_exporter": "python",
   "pygments_lexer": "ipython3",
   "version": "3.7.4"
  }
 },
 "nbformat": 4,
 "nbformat_minor": 2
}
